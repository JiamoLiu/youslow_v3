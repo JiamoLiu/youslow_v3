{
 "cells": [
  {
   "cell_type": "code",
   "execution_count": 1,
   "metadata": {},
   "outputs": [],
   "source": [
    "import matplotlib.pyplot as plt\n",
    "from cycler import cycler\n",
    "\n",
    "\n",
    "cycler_colors = ['#348ABD', '#A60628', '#7A68A6', '#467821', '#CF4457', '#188487', '#E24A33']\n",
    "def set_matplot_params(font_size = 8, xtick_major = 0.25, xtick_minor = 0.25, ytick_major = 0.25, ytick_minor = 0.25):\n",
    "    params_dict = {\n",
    "        'text.usetex': False,\n",
    "        # 'font.family': 'Times New Roman',\n",
    "        # 'font.serif': 'Times New Roman',\n",
    "        # 'font.sans-serif': 'Times New Roman',\n",
    "        'font.size': font_size,\n",
    "        'figure.figsize': [3.125, 1.93],  # Golden ratio\n",
    "        #figure.figsize: 3.125, 1.56  # Squash for more space\n",
    "        'legend.fontsize': 6,\n",
    "        'legend.fancybox': False,\n",
    "        'axes.linewidth': 0.5,\n",
    "        'pdf.fonttype' : 42,\n",
    "        'ps.fonttype' : 42,\n",
    "        'axes.prop_cycle': cycler(\"color\", cycler_colors),\n",
    "                          # 348ABD : blue\n",
    "                          # A60628 : red\n",
    "                          # 7A68A6 : purple\n",
    "                          # 467821 : green\n",
    "                          # CF4457 : pink\n",
    "                          # 188487 : turquoise\n",
    "                          # E24A33 : orange\n",
    "        'patch.linewidth': 0.5,\n",
    "        'lines.linewidth': 2,\n",
    "        'grid.linewidth': 0.1,\n",
    "        'xtick.major.width': xtick_major,\n",
    "        'xtick.minor.width': xtick_minor,\n",
    "        'ytick.major.width': ytick_major,\n",
    "        'ytick.minor.width': ytick_minor,\n",
    "        'legend.numpoints': 1}\n",
    "    plt.rcParams.update(params_dict)\n",
    "set_matplot_params()"
   ]
  },
  {
   "cell_type": "code",
   "execution_count": null,
   "metadata": {},
   "outputs": [],
   "source": []
  },
  {
   "cell_type": "code",
   "execution_count": 2,
   "metadata": {},
   "outputs": [
    {
     "name": "stdout",
     "output_type": "stream",
     "text": [
      "{'campus': {'3Mbps': ['database/campus/3Mbps/1', 'database/campus/3Mbps/2', 'database/campus/3Mbps/3', 'database/campus/3Mbps/4', 'database/campus/3Mbps/5', 'database/campus/3Mbps/6', 'database/campus/3Mbps/7', 'database/campus/3Mbps/8', 'database/campus/3Mbps/9', 'database/campus/3Mbps/10'], '5Mbps': ['database/campus/5Mbps/1', 'database/campus/5Mbps/2', 'database/campus/5Mbps/3', 'database/campus/5Mbps/4', 'database/campus/5Mbps/5', 'database/campus/5Mbps/6', 'database/campus/5Mbps/7', 'database/campus/5Mbps/8', 'database/campus/5Mbps/9', 'database/campus/5Mbps/10']}, 'satellite': {'5Mbps': ['database/satellite/5Mbps/1', 'database/satellite/5Mbps/2', 'database/satellite/5Mbps/3', 'database/satellite/5Mbps/4', 'database/satellite/5Mbps/5', 'database/satellite/5Mbps/6', 'database/satellite/5Mbps/7', 'database/satellite/5Mbps/8', 'database/satellite/5Mbps/9', 'database/satellite/5Mbps/10']}}\n"
     ]
    }
   ],
   "source": [
    "import os\n",
    "\n",
    "def grab_directory_paths():\n",
    "    base_path = 'database'\n",
    "    campus_path = os.path.join(base_path, 'campus')\n",
    "    satellite_path = os.path.join(base_path, 'satellite')\n",
    "    paths = {}\n",
    "    paths[\"campus\"] = {}\n",
    "    paths[\"satellite\"] = {}\n",
    "    for speed in ['3Mbps', '5Mbps']:\n",
    "        paths[\"campus\"][speed] = []\n",
    "        if speed == '5Mbps':\n",
    "            paths[\"satellite\"][speed] = []\n",
    "        campus_speed_path = os.path.join(campus_path, speed)\n",
    "        satellite_speed_path = os.path.join(satellite_path, speed)\n",
    "        for folder in range(1, 11):\n",
    "            campus_folder_path = os.path.join(campus_speed_path, str(folder))\n",
    "            satellite_folder_path = os.path.join(satellite_speed_path, str(folder))\n",
    "            if speed == '5Mbps':\n",
    "                paths[\"satellite\"][speed].append(satellite_folder_path)\n",
    "            paths[\"campus\"][speed].append(campus_folder_path)\n",
    "    \n",
    "    return paths\n",
    "\n",
    "datapaths = grab_directory_paths()\n",
    "c5 = datapaths[\"campus\"][\"5Mbps\"]\n",
    "c3 = datapaths[\"campus\"][\"3Mbps\"] \n",
    "s5 = datapaths[\"satellite\"][\"5Mbps\"]\n",
    "campus = datapaths[\"campus\"]\n",
    "satellite = datapaths[\"satellite\"]\n",
    "print(datapaths)"
   ]
  },
  {
   "cell_type": "code",
   "execution_count": null,
   "metadata": {},
   "outputs": [],
   "source": []
  },
  {
   "cell_type": "code",
   "execution_count": 3,
   "metadata": {},
   "outputs": [
    {
     "name": "stdout",
     "output_type": "stream",
     "text": [
      "database/campus/5Mbps/1 [{'start_time': 1716279238619, 'duration': 472, 'response_size': -1, 'status': 206}]\n",
      "database/campus/5Mbps/2 [{'start_time': 1716279297560, 'duration': 307, 'response_size': -1, 'status': 206}, {'start_time': 1716279308373, 'duration': 151, 'response_size': -1, 'status': 206}, {'start_time': 1716279308667, 'duration': 1920, 'response_size': 716091, 'status': 206}, {'start_time': 1716279311287, 'duration': 270, 'response_size': -1, 'status': 206}, {'start_time': 1716279311780, 'duration': 326, 'response_size': -1, 'status': 206}]\n",
      "database/campus/5Mbps/3 [{'start_time': 1716279335872, 'duration': 2772, 'response_size': 893964, 'status': 206}, {'start_time': 1716279341001, 'duration': 185, 'response_size': -1, 'status': 206}, {'start_time': 1716279341618, 'duration': 8678, 'response_size': 3904535, 'status': 206}, {'start_time': 1716279349996, 'duration': 184, 'response_size': -1, 'status': 206}, {'start_time': 1716279350268, 'duration': 135, 'response_size': -1, 'status': 206}]\n",
      "database/campus/5Mbps/4 [{'start_time': 1716279393472, 'duration': 444, 'response_size': -1, 'status': 206}, {'start_time': 1716279405172, 'duration': 281, 'response_size': -1, 'status': 206}, {'start_time': 1716279405626, 'duration': 341, 'response_size': -1, 'status': 206}]\n",
      "database/campus/5Mbps/5 [{'start_time': 1716279431131, 'duration': 385, 'response_size': -1, 'status': 206}, {'start_time': 1716279443656, 'duration': 259, 'response_size': -1, 'status': 206}, {'start_time': 1716279444047, 'duration': 2590, 'response_size': 804041, 'status': 206}, {'start_time': 1716279446504, 'duration': 127, 'response_size': -1, 'status': 206}]\n",
      "database/campus/5Mbps/6 [{'start_time': 1716279491241, 'duration': 1629, 'response_size': 717797, 'status': 206}, {'start_time': 1716279495021, 'duration': 51, 'response_size': -1, 'status': 206}, {'start_time': 1716279495114, 'duration': 1667, 'response_size': 967978, 'status': 206}, {'start_time': 1716279497016, 'duration': 107, 'response_size': -1, 'status': 206}, {'start_time': 1716279497183, 'duration': 4512, 'response_size': 2667902, 'status': 206}, {'start_time': 1716279502019, 'duration': 134, 'response_size': -1, 'status': 206}, {'start_time': 1716279502203, 'duration': 916, 'response_size': 509617, 'status': 206}]\n",
      "database/campus/5Mbps/7 [{'start_time': 1716279551809, 'duration': 1722, 'response_size': 724172, 'status': 206}, {'start_time': 1716279555441, 'duration': 141, 'response_size': -1, 'status': 206}, {'start_time': 1716279555654, 'duration': 8192, 'response_size': 4884509, 'status': 206}]\n",
      "database/campus/5Mbps/8 [{'start_time': 1716279590044, 'duration': 2778, 'response_size': 724172, 'status': 206}, {'start_time': 1716279594039, 'duration': 299, 'response_size': -1, 'status': 206}, {'start_time': 1716279594549, 'duration': 1304, 'response_size': 509617, 'status': 206}, {'start_time': 1716279596034, 'duration': 204, 'response_size': -1, 'status': 206}, {'start_time': 1716279596438, 'duration': 287, 'response_size': -1, 'status': 206}]\n",
      "database/campus/5Mbps/9 [{'start_time': 1716279647213, 'duration': 351, 'response_size': -1, 'status': 206}, {'start_time': 1716279659196, 'duration': 944, 'response_size': -1, 'status': 206}, {'start_time': 1716279660384, 'duration': 389, 'response_size': -1, 'status': 206}]\n",
      "database/campus/5Mbps/10 [{'start_time': 1716279684321, 'duration': 1995, 'response_size': 893964, 'status': 206}, {'start_time': 1716279688608, 'duration': 139, 'response_size': -1, 'status': 206}, {'start_time': 1716279688811, 'duration': 934, 'response_size': 509617, 'status': 206}, {'start_time': 1716279690603, 'duration': 134, 'response_size': -1, 'status': 206}, {'start_time': 1716279690793, 'duration': 98, 'response_size': -1, 'status': 206}]\n",
      "database/campus/3Mbps/1 [{'start_time': 1716278754505, 'duration': 1929, 'response_size': -1, 'status': 206}, {'start_time': 1716278767564, 'duration': 1939, 'response_size': -1, 'status': 206}]\n",
      "database/campus/3Mbps/2 [{'start_time': 1716278812841, 'duration': 3652, 'response_size': 724172, 'status': 206}, {'start_time': 1716278817433, 'duration': 374, 'response_size': -1, 'status': 206}, {'start_time': 1716278818067, 'duration': 2159, 'response_size': 509617, 'status': 206}, {'start_time': 1716278823430, 'duration': 371, 'response_size': -1, 'status': 206}, {'start_time': 1716278823939, 'duration': 209, 'response_size': -1, 'status': 206}]\n",
      "database/campus/3Mbps/3 [{'start_time': 1716278870760, 'duration': 4110, 'response_size': 893964, 'status': 206}, {'start_time': 1716278875232, 'duration': 393, 'response_size': -1, 'status': 206}, {'start_time': 1716278875899, 'duration': 422, 'response_size': -1, 'status': 206}]\n",
      "database/campus/3Mbps/4 [{'start_time': 1716278914437, 'duration': 1177, 'response_size': -1, 'status': 206}]\n",
      "database/campus/3Mbps/5 [{'start_time': 1716278957636, 'duration': 1208, 'response_size': -1, 'status': 206}]\n",
      "database/campus/3Mbps/6 [{'start_time': 1716278999075, 'duration': 1059, 'response_size': -1, 'status': 206}]\n",
      "database/campus/3Mbps/7 [{'start_time': 1716279057384, 'duration': 1134, 'response_size': -1, 'status': 206}]\n",
      "database/campus/3Mbps/8 [{'start_time': 1716279101200, 'duration': 925, 'response_size': -1, 'status': 206}]\n",
      "database/campus/3Mbps/9 [{'start_time': 1716279160033, 'duration': 919, 'response_size': -1, 'status': 206}, {'start_time': 1716279172941, 'duration': 893, 'response_size': -1, 'status': 206}, {'start_time': 1716279173978, 'duration': 740, 'response_size': -1, 'status': 206}]\n",
      "database/campus/3Mbps/10 [{'start_time': 1716279202670, 'duration': 1105, 'response_size': -1, 'status': 206}]\n",
      "database/satellite/5Mbps/1 [{'start_time': 1716278080629, 'duration': 3314, 'response_size': -1, 'status': 206}]\n",
      "database/satellite/5Mbps/2 [{'start_time': 1716278123920, 'duration': 3046, 'response_size': -1, 'status': 206}, {'start_time': 1716278136488, 'duration': 1489, 'response_size': -1, 'status': 206}]\n",
      "database/satellite/5Mbps/3 [{'start_time': 1716278174095, 'duration': 2608, 'response_size': -1, 'status': 206}, {'start_time': 1716278186019, 'duration': 1564, 'response_size': -1, 'status': 206}]\n",
      "database/satellite/5Mbps/4 [{'start_time': 1716278237404, 'duration': 2975, 'response_size': -1, 'status': 206}, {'start_time': 1716278249769, 'duration': 1859, 'response_size': -1, 'status': 206}]\n",
      "database/satellite/5Mbps/5 [{'start_time': 1716278280835, 'duration': 2816, 'response_size': -1, 'status': 206}, {'start_time': 1716278292324, 'duration': 1248, 'response_size': -1, 'status': 206}]\n",
      "database/satellite/5Mbps/6 [{'start_time': 1716278342162, 'duration': 2802, 'response_size': -1, 'status': 206}, {'start_time': 1716278354617, 'duration': 1671, 'response_size': -1, 'status': 206}]\n",
      "database/satellite/5Mbps/7 [{'start_time': 1716278386767, 'duration': 3311, 'response_size': -1, 'status': 206}]\n",
      "database/satellite/5Mbps/8 [{'start_time': 1716278429877, 'duration': 3418, 'response_size': -1, 'status': 206}, {'start_time': 1716278442209, 'duration': 1309, 'response_size': -1, 'status': 206}]\n",
      "database/satellite/5Mbps/9 [{'start_time': 1716278477936, 'duration': 2560, 'response_size': -1, 'status': 206}, {'start_time': 1716278489801, 'duration': 1805, 'response_size': -1, 'status': 206}]\n",
      "database/satellite/5Mbps/10 [{'start_time': 1716278524255, 'duration': 3920, 'response_size': -1, 'status': 206}]\n"
     ]
    }
   ],
   "source": [
    "import json\n",
    "import json\n",
    "from datetime import datetime\n",
    "import pytz\n",
    "\n",
    "def iso_to_epoch_milliseconds(date_string):\n",
    "    # Parse the date string to a datetime object\n",
    "    dt = datetime.fromisoformat(date_string)\n",
    "    \n",
    "    # Convert the datetime object to UTC\n",
    "    dt_utc = dt.astimezone(pytz.UTC)\n",
    "    \n",
    "    # Calculate the number of milliseconds since Unix epoch\n",
    "    epoch = datetime(1970, 1, 1, tzinfo=pytz.UTC)\n",
    "    milliseconds_since_epoch = int((dt_utc - epoch).total_seconds() * 1000)\n",
    "    \n",
    "    return milliseconds_since_epoch\n",
    "\n",
    "\n",
    "\n",
    "def analyze_video_response(folder_path):\n",
    "    video_responses = []\n",
    "    \n",
    "    for file_name in os.listdir(folder_path):\n",
    "        if file_name.endswith(\".har\"):\n",
    "            file_path = os.path.join(folder_path, file_name)\n",
    "            \n",
    "            with open(file_path, \"r\") as file:\n",
    "                har_data = json.load(file)\n",
    "                \n",
    "                for entry in har_data[\"log\"][\"entries\"]:\n",
    "                    if entry[\"response\"][\"content\"][\"mimeType\"] == \"video/mp4\":\n",
    "                        start_time = iso_to_epoch_milliseconds(entry[\"startedDateTime\"])\n",
    "                        video_response = {\n",
    "                            # \"url\": entry[\"request\"][\"url\"],\n",
    "                            \"start_time\": start_time,\n",
    "                            \"duration\": entry[\"time\"],\n",
    "                            \"response_size\": entry[\"response\"][\"bodySize\"],\n",
    "                            \"status\": entry[\"response\"][\"status\"]\n",
    "                        }\n",
    "                        video_responses.append(video_response)\n",
    "    return video_responses\n",
    "\n",
    "data = {}\n",
    "for folder in c5:\n",
    "    data[folder] = analyze_video_response(folder)\n",
    "for folder in c3:\n",
    "    data[folder] = analyze_video_response(folder)\n",
    "for folder in s5:\n",
    "    data[folder] = analyze_video_response(folder)\n",
    "\n",
    "for folder in data:\n",
    "    print(folder, data[folder])\n",
    "\n",
    "\n"
   ]
  },
  {
   "cell_type": "code",
   "execution_count": 16,
   "metadata": {},
   "outputs": [
    {
     "data": {
      "image/png": "[encoded data removed]",
      "text/plain": [
       "<Figure size 312.5x193 with 1 Axes>"
      ]
     },
     "metadata": {},
     "output_type": "display_data"
    },
    {
     "data": {
      "image/png": "[encoded data removed]",
      "text/plain": [
       "<Figure size 312.5x193 with 1 Axes>"
      ]
     },
     "metadata": {},
     "output_type": "display_data"
    },
    {
     "data": {
      "image/png": "[encoded data removed]",
      "text/plain": [
       "<Figure size 312.5x193 with 1 Axes>"
      ]
     },
     "metadata": {},
     "output_type": "display_data"
    }
   ],
   "source": [
    "import matplotlib.pyplot as plt\n",
    "\n",
    "def chart_data(data, keys):\n",
    "    filtered_durations = []\n",
    "    filtered_response_sizes = []\n",
    "    for key in keys:\n",
    "        if key in data:\n",
    "            durations = [response['duration'] for response in data[key]]\n",
    "            response_sizes = [response['response_size'] for response in data[key]]\n",
    "            \n",
    "            # Filter out response_sizes that are -1\n",
    "            for i in range(len(response_sizes)):\n",
    "                if response_sizes[i] != -1:\n",
    "                    filtered_durations.append(durations[i])\n",
    "                    filtered_response_sizes.append(response_sizes[i])\n",
    "    \n",
    "    plt.scatter(filtered_durations, filtered_response_sizes)\n",
    "    plt.xlabel('Duration')\n",
    "    plt.ylabel('Response Size')\n",
    "    plt.title(f'Chart for now')\n",
    "    plt.show()\n",
    "\n",
    "# Example usage\n",
    "chart_data(data, c3)\n",
    "chart_data(data, c5)\n",
    "chart_data(data, s5)\n"
   ]
  },
  {
   "cell_type": "code",
   "execution_count": null,
   "metadata": {},
   "outputs": [],
   "source": []
  },
  {
   "cell_type": "code",
   "execution_count": null,
   "metadata": {},
   "outputs": [],
   "source": []
  },
  {
   "cell_type": "code",
   "execution_count": 34,
   "metadata": {},
   "outputs": [
    {
     "name": "stdout",
     "output_type": "stream",
     "text": [
      "1194\n",
      "301\n",
      "720\n",
      "411\n",
      "672\n",
      "443\n",
      "279\n",
      "630\n",
      "1204\n",
      "606\n",
      "2059\n",
      "720\n",
      "622\n",
      "2878\n",
      "884\n",
      "1421\n",
      "1164\n",
      "867\n",
      "1387\n",
      "685\n",
      "637\n",
      "1064\n",
      "802\n",
      "788\n",
      "794\n",
      "705\n",
      "894\n",
      "1325\n",
      "714\n",
      "798\n"
     ]
    }
   ],
   "source": [
    "import os\n",
    "import pandas as pd\n",
    "import json\n",
    "\n",
    "def get_first_positive_row(directory):\n",
    "    # Get the path of the .csv file in the directory\n",
    "    csv_file = [file for file in os.listdir(directory) if file.endswith('.csv')]\n",
    "    if not csv_file:\n",
    "        return None\n",
    "    csv_path = os.path.join(directory, csv_file[0])\n",
    "    \n",
    "    # Read the .csv file into a pandas DataFrame\n",
    "    df = pd.read_csv(csv_path)\n",
    "    \n",
    "    # Find the first row where currentTime > 0\n",
    "    first_positive_row = df[df['currentTime'] > 0].iloc[0]\n",
    "    \n",
    "    # Convert the first_positive_row to JSON format\n",
    "    # ...\n",
    "\n",
    "    first_positive_row_json = first_positive_row.to_json()\n",
    "    first_positive_row_dict = json.loads(first_positive_row_json)\n",
    "    \n",
    "    return first_positive_row_dict\n",
    "\n",
    "QoE = {}\n",
    "for folder in data:\n",
    "    first_positive_row = get_first_positive_row(folder)\n",
    "    if first_positive_row is not None:\n",
    "        QoE[folder] = first_positive_row\n",
    "    else:\n",
    "        print(f\"Could not find a positive currentTime in {folder}\")  \n",
    "    QoE[folder]['player_load_time'] = QoE[folder]['extension_loaded_time'] - data[folder][0]['start_time']\n",
    "    print(QoE[folder]['player_load_time'])\n"
   ]
  },
  {
   "cell_type": "code",
   "execution_count": null,
   "metadata": {},
   "outputs": [],
   "source": []
  },
  {
   "cell_type": "code",
   "execution_count": 40,
   "metadata": {},
   "outputs": [
    {
     "data": {
      "image/png": "[encoded data removed]",
      "text/plain": [
       "<Figure size 312.5x193 with 1 Axes>"
      ]
     },
     "metadata": {},
     "output_type": "display_data"
    }
   ],
   "source": [
    "def chart_time(data, keys):\n",
    "    for key in keys:\n",
    "        load_times = []\n",
    "        response_sizes = []\n",
    "        if key in data and len(data[key]) > 0 and data[key][0]['response_size'] > 0:\n",
    "            response_sizes = [response['response_size'] for response in data[key]]\n",
    "            for i in len(response_sizes):\n",
    "                \n",
    "    plt.scatter(load_times, response_sizes)\n",
    "    plt.xlabel('Player Load Time')\n",
    "    plt.ylabel('Response Size')\n",
    "    plt.title('Chart for now')\n",
    "    plt.show()\n",
    "\n",
    "chart_time(data, c3)\n",
    "\n",
    "# incomplete, need to figure out if the response_sizes are for a single or multiple request, \n",
    "# find the correct single one\n",
    "# and then compare that to the load time of the player\n"
   ]
  },
  {
   "cell_type": "code",
   "execution_count": 5,
   "metadata": {},
   "outputs": [
    {
     "name": "stdout",
     "output_type": "stream",
     "text": [
      "{'mean_data_per_second': 0.004153126645226069, 'median_data_per_second': -307.0, 'std_data_per_second': 0.002322975688599677}\n",
      "{'mean_data_per_second': 0.002491197241802432, 'median_data_per_second': -185.0, 'std_data_per_second': 0.002182674937827164}\n",
      "{'mean_data_per_second': 0.0041801506893952775, 'median_data_per_second': -322.0, 'std_data_per_second': 0.002913396194316697}\n",
      "{'mean_data_per_second': 0.001853888652766203, 'median_data_per_second': 0.0017974282647556892, 'std_data_per_second': 0.0016615926571323086}\n",
      "{'mean_data_per_second': 0.001792756941027122, 'median_data_per_second': 0.002377888126025309, 'std_data_per_second': 0.0016182556246086784}\n",
      "{'mean_data_per_second': 0.003948820946258103, 'median_data_per_second': -299.0, 'std_data_per_second': 0.0031907991485153678}\n",
      "{'mean_data_per_second': 0.002351134030313955, 'median_data_per_second': -139.0, 'std_data_per_second': 0.0020230900598687887}\n",
      "{'mean_data_per_second': 0.005483122680918733, 'median_data_per_second': -374.0, 'std_data_per_second': 0.004371422615333285}\n",
      "{'mean_data_per_second': 0.005509182716938752, 'median_data_per_second': -422.0, 'std_data_per_second': 0.004141756308080709}\n"
     ]
    }
   ],
   "source": [
    "import numpy as np\n",
    "\n",
    "average = {}\n",
    "\n",
    "for folder in data:\n",
    "    durations = [response['duration'] for response in data[folder]]\n",
    "    response_sizes = [response['response_size'] for response in data[folder]]\n",
    "    \n",
    "    # Check if all response_sizes are -1\n",
    "    if all(response_size == -1 for response_size in response_sizes):\n",
    "        continue\n",
    "    \n",
    "    # Calculate mean\n",
    "    mean_duration = np.mean(durations)\n",
    "    mean_response_size = np.mean(response_sizes)\n",
    "    # Calculate median\n",
    "    median_duration = np.median(durations)\n",
    "    median_response_size = np.median(response_sizes)\n",
    "    # Calculate standard deviation\n",
    "    std_duration = np.std(durations)\n",
    "    std_response_size = np.std(response_sizes)\n",
    "    # Calculate Data Per Second\n",
    "    mean_data_per_second = mean_duration / mean_response_size\n",
    "    median_data_per_second = median_duration / median_response_size\n",
    "    std_data_per_second = std_duration / std_response_size\n",
    "    \n",
    "    # Attach metrics to the dictionary\n",
    "    average[folder] = {'mean_data_per_second': mean_data_per_second, 'median_data_per_second': median_data_per_second, 'std_data_per_second': std_data_per_second}\n",
    "    \n",
    "    print(average[folder])\n"
   ]
  }
 ],
 "metadata": {
  "kernelspec": {
   "display_name": "Python 3",
   "language": "python",
   "name": "python3"
  },
  "language_info": {
   "codemirror_mode": {
    "name": "ipython",
    "version": 3
   },
   "file_extension": ".py",
   "mimetype": "text/x-python",
   "name": "python",
   "nbconvert_exporter": "python",
   "pygments_lexer": "ipython3",
   "version": "3.10.12"
  }
 },
 "nbformat": 4,
 "nbformat_minor": 2
}
