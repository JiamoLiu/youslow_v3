{
 "cells": [
  {
   "cell_type": "code",
   "execution_count": 1,
   "metadata": {},
   "outputs": [],
   "source": [
    "%load_ext autoreload\n",
    "%autoreload 2\n",
    "import glob\n",
    "import matplotlib.pyplot as plt\n",
    "from matplotlib import cycler\n",
    "import datetime\n",
    "import pandas as pd\n",
    "import os\n",
    "import helper\n",
    "import numpy as np\n",
    "import seaborn as sns\n",
    "import itertools\n",
    "import json\n",
    "\n",
    "import helper\n"
   ]
  },
  {
   "cell_type": "code",
   "execution_count": 3,
   "metadata": {},
   "outputs": [],
   "source": [
    "hotfile = \"captures/campus/brawl-stars/1.1Mbps/twitch_har_iter0.har\""
   ]
  },
  {
   "cell_type": "code",
   "execution_count": 4,
   "metadata": {},
   "outputs": [],
   "source": [
    "\n",
    "\n",
    "cycler_colors = ['#348ABD', '#A60628', '#7A68A6', '#467821', '#CF4457', '#188487', '#E24A33']\n",
    "def set_matplot_params(font_size = 8, xtick_major = 0.25, xtick_minor = 0.25, ytick_major = 0.25, ytick_minor = 0.25):\n",
    "    params_dict = {\n",
    "        'text.usetex': False,\n",
    "        # 'font.family': 'Times New Roman',\n",
    "        # 'font.serif': 'Times New Roman',\n",
    "        # 'font.sans-serif': 'Times New Roman',\n",
    "        'font.size': font_size,\n",
    "        'figure.figsize': [3.125, 1.93],  # Golden ratio\n",
    "        #figure.figsize: 3.125, 1.56  # Squash for more space\n",
    "        'legend.fontsize': 6,\n",
    "        'legend.fancybox': False,\n",
    "        'axes.linewidth': 0.5,\n",
    "        'pdf.fonttype' : 42,\n",
    "        'ps.fonttype' : 42,\n",
    "        'axes.prop_cycle': cycler(\"color\", cycler_colors),\n",
    "                          # 348ABD : blue\n",
    "                          # A60628 : red\n",
    "                          # 7A68A6 : purple\n",
    "                          # 467821 : green\n",
    "                          # CF4457 : pink\n",
    "                          # 188487 : turquoise\n",
    "                          # E24A33 : orange\n",
    "        'patch.linewidth': 0.5,\n",
    "        'lines.linewidth': 2,\n",
    "        'grid.linewidth': 0.1,\n",
    "        'xtick.major.width': xtick_major,\n",
    "        'xtick.minor.width': xtick_minor,\n",
    "        'ytick.major.width': ytick_major,\n",
    "        'ytick.minor.width': ytick_minor,\n",
    "        'legend.numpoints': 1}\n",
    "    plt.rcParams.update(params_dict)\n",
    "set_matplot_params()"
   ]
  },
  {
   "cell_type": "code",
   "execution_count": 5,
   "metadata": {},
   "outputs": [],
   "source": [
    "# things I need\n",
    "# Avg Chunk size, mean, std, median, min, max\n",
    "# Number of chunks\n",
    "# idle time between chunks (mean, std, median, min, max)\n",
    "# video throughput"
   ]
  },
  {
   "cell_type": "code",
   "execution_count": 6,
   "metadata": {},
   "outputs": [
    {
     "ename": "FileNotFoundError",
     "evalue": "[Errno 2] No such file or directory: 'captures/campus/brawl-stars/1.1Mbps/twitch_har_iter0.har'",
     "output_type": "error",
     "traceback": [
      "\u001b[0;31m---------------------------------------------------------------------------\u001b[0m",
      "\u001b[0;31mFileNotFoundError\u001b[0m                         Traceback (most recent call last)",
      "Cell \u001b[0;32mIn[6], line 81\u001b[0m\n\u001b[1;32m     78\u001b[0m     \u001b[38;5;66;03m# Save the DataFrame to a CSV file\u001b[39;00m\n\u001b[1;32m     79\u001b[0m     df\u001b[38;5;241m.\u001b[39mto_csv(csv_file_path, index\u001b[38;5;241m=\u001b[39m\u001b[38;5;28;01mFalse\u001b[39;00m)\n\u001b[0;32m---> 81\u001b[0m \u001b[43mparse_har_to_csv\u001b[49m\u001b[43m(\u001b[49m\u001b[43mhotfile\u001b[49m\u001b[43m,\u001b[49m\u001b[43m \u001b[49m\u001b[38;5;124;43m\"\u001b[39;49m\u001b[38;5;124;43mtemp.csv\u001b[39;49m\u001b[38;5;124;43m\"\u001b[39;49m\u001b[43m)\u001b[49m\n",
      "Cell \u001b[0;32mIn[6], line 7\u001b[0m, in \u001b[0;36mparse_har_to_csv\u001b[0;34m(har_file_path, csv_file_path)\u001b[0m\n\u001b[1;32m      5\u001b[0m \u001b[38;5;28;01mdef\u001b[39;00m \u001b[38;5;21mparse_har_to_csv\u001b[39m(har_file_path, csv_file_path):\n\u001b[1;32m      6\u001b[0m     \u001b[38;5;66;03m# Read the HAR file\u001b[39;00m\n\u001b[0;32m----> 7\u001b[0m     \u001b[38;5;28;01mwith\u001b[39;00m \u001b[38;5;28;43mopen\u001b[39;49m\u001b[43m(\u001b[49m\u001b[43mhar_file_path\u001b[49m\u001b[43m,\u001b[49m\u001b[43m \u001b[49m\u001b[38;5;124;43m'\u001b[39;49m\u001b[38;5;124;43mr\u001b[39;49m\u001b[38;5;124;43m'\u001b[39;49m\u001b[43m)\u001b[49m \u001b[38;5;28;01mas\u001b[39;00m har_file:\n\u001b[1;32m      8\u001b[0m         har_data \u001b[38;5;241m=\u001b[39m json\u001b[38;5;241m.\u001b[39mload(har_file)\n\u001b[1;32m     10\u001b[0m     \u001b[38;5;66;03m# Extract the video chunks\u001b[39;00m\n\u001b[1;32m     11\u001b[0m     \u001b[38;5;66;03m# Filtering criteria for video chunks:\u001b[39;00m\n\u001b[1;32m     12\u001b[0m         \u001b[38;5;66;03m# 1. The request URL ends with .ts\u001b[39;00m\n\u001b[1;32m     13\u001b[0m         \u001b[38;5;66;03m# 2. The response status is 200\u001b[39;00m\n",
      "File \u001b[0;32m~/.local/lib/python3.10/site-packages/IPython/core/interactiveshell.py:324\u001b[0m, in \u001b[0;36m_modified_open\u001b[0;34m(file, *args, **kwargs)\u001b[0m\n\u001b[1;32m    317\u001b[0m \u001b[38;5;28;01mif\u001b[39;00m file \u001b[38;5;129;01min\u001b[39;00m {\u001b[38;5;241m0\u001b[39m, \u001b[38;5;241m1\u001b[39m, \u001b[38;5;241m2\u001b[39m}:\n\u001b[1;32m    318\u001b[0m     \u001b[38;5;28;01mraise\u001b[39;00m \u001b[38;5;167;01mValueError\u001b[39;00m(\n\u001b[1;32m    319\u001b[0m         \u001b[38;5;124mf\u001b[39m\u001b[38;5;124m\"\u001b[39m\u001b[38;5;124mIPython won\u001b[39m\u001b[38;5;124m'\u001b[39m\u001b[38;5;124mt let you open fd=\u001b[39m\u001b[38;5;132;01m{\u001b[39;00mfile\u001b[38;5;132;01m}\u001b[39;00m\u001b[38;5;124m by default \u001b[39m\u001b[38;5;124m\"\u001b[39m\n\u001b[1;32m    320\u001b[0m         \u001b[38;5;124m\"\u001b[39m\u001b[38;5;124mas it is likely to crash IPython. If you know what you are doing, \u001b[39m\u001b[38;5;124m\"\u001b[39m\n\u001b[1;32m    321\u001b[0m         \u001b[38;5;124m\"\u001b[39m\u001b[38;5;124myou can use builtins\u001b[39m\u001b[38;5;124m'\u001b[39m\u001b[38;5;124m open.\u001b[39m\u001b[38;5;124m\"\u001b[39m\n\u001b[1;32m    322\u001b[0m     )\n\u001b[0;32m--> 324\u001b[0m \u001b[38;5;28;01mreturn\u001b[39;00m \u001b[43mio_open\u001b[49m\u001b[43m(\u001b[49m\u001b[43mfile\u001b[49m\u001b[43m,\u001b[49m\u001b[43m \u001b[49m\u001b[38;5;241;43m*\u001b[39;49m\u001b[43margs\u001b[49m\u001b[43m,\u001b[49m\u001b[43m \u001b[49m\u001b[38;5;241;43m*\u001b[39;49m\u001b[38;5;241;43m*\u001b[39;49m\u001b[43mkwargs\u001b[49m\u001b[43m)\u001b[49m\n",
      "\u001b[0;31mFileNotFoundError\u001b[0m: [Errno 2] No such file or directory: 'captures/campus/brawl-stars/1.1Mbps/twitch_har_iter0.har'"
     ]
    }
   ],
   "source": [
    "# Initialize an empty list to store per chunk data\n",
    "per_chunk_data = []\n",
    "\n",
    "# function to parese an har file and convert it to a csv file filtered only for video chunks\n",
    "def parse_har_to_csv(har_file_path, csv_file_path):\n",
    "    # Read the HAR file\n",
    "    with open(har_file_path, 'r') as har_file:\n",
    "        har_data = json.load(har_file)\n",
    "    \n",
    "    # Extract the video chunks\n",
    "    # Filtering criteria for video chunks:\n",
    "        # 1. The request URL ends with .ts\n",
    "        # 2. The response status is 200\n",
    "\n",
    "    video_chunks = []\n",
    "\n",
    "    # Get the parent folder name\n",
    "    parent_folder = os.path.basename(os.path.dirname(har_file_path))\n",
    "\n",
    "    # Get the grandparent folder name\n",
    "    grandparent_folder = os.path.basename(os.path.dirname(os.path.dirname(har_file_path)))\n",
    "\n",
    "    # Get the greate grandparent folder name\n",
    "    great_grandparent_folder = os.path.basename(os.path.dirname(os.path.dirname(os.path.dirname(har_file_path))))\n",
    "\n",
    "    for entry in har_data['log']['entries']:\n",
    "        request_url = entry['request']['url']\n",
    "        response_status = entry['response']['status']\n",
    "        if request_url.endswith('.ts') and response_status == 200:\n",
    "\n",
    "            # Extract the chunk size\n",
    "            chunk_size = entry['response']['bodySize'] * 8 / 1024 / 1024  # Convert to Megabits\n",
    "            # Extract the chunk start time\n",
    "            chunk_start_time = datetime.datetime.fromisoformat(entry['startedDateTime'])\n",
    "\n",
    "            # Convert entry['time'] to seconds\n",
    "            chunk_duration = datetime.timedelta(seconds=entry['time']* 0.001) \n",
    "            # Calculate the chunk end time\n",
    "            chunk_end_time = (chunk_start_time + chunk_duration).isoformat()\n",
    "\n",
    "            # Extract all of the timings data\n",
    "            timings = str(entry['timings'])\n",
    "\n",
    "            # Append the chunk to the list\n",
    "            video_chunks.append({\n",
    "                'start_time': chunk_start_time,\n",
    "                'end_time': chunk_end_time,\n",
    "                'size': chunk_size,\n",
    "                'url': request_url,\n",
    "                'timings': timings\n",
    "            })\n",
    "\n",
    "            per_chunk_data.append({\n",
    "                'network': great_grandparent_folder,\n",
    "                'category': helper.game_to_category(grandparent_folder),\n",
    "                'rate': parent_folder,\n",
    "                'start_time': chunk_start_time,\n",
    "                'end_time': chunk_end_time,\n",
    "                'total_time': chunk_duration.total_seconds(),\n",
    "                'size': chunk_size,\n",
    "                'url': request_url,\n",
    "                'timings': timings\n",
    "            })\n",
    "    \n",
    "    # if video chunks is empty return an item of all zeroes to it\n",
    "    if len(video_chunks) == 0:\n",
    "        video_chunks.append({\n",
    "            'start_time': 0,\n",
    "            'end_time': 0,\n",
    "            'size': 0,\n",
    "            'url': 0,\n",
    "            'timings': 0\n",
    "        })\n",
    "        \n",
    "    # Convert the video chunks to a DataFrame\n",
    "    df = pd.DataFrame(video_chunks)\n",
    "    \n",
    "    # Save the DataFrame to a CSV file\n",
    "    df.to_csv(csv_file_path, index=False)\n",
    "            \n",
    "parse_har_to_csv(hotfile, \"temp.csv\")\n"
   ]
  },
  {
   "cell_type": "code",
   "execution_count": 6,
   "metadata": {},
   "outputs": [],
   "source": [
    "# given a the csv file created above, write a function to calculate the metrics:\n",
    "    # Chunk size: Avg, mean, std, median, min, max\n",
    "    # Number of chunks\n",
    "    # idle time between chunks (mean, std, median, min, max)\n",
    "    # video throughput\n",
    "\n",
    "def calculate_metrics(csv_file_path, file_path=None):\n",
    "\n",
    "    # if file is empty, or only containes blank spaces, print the file path and return\n",
    "    \n",
    "    \n",
    "    # Read the CSV file\n",
    "    df = pd.read_csv(csv_file_path)\n",
    "    \n",
    "    # Calculate the chunk size metrics\n",
    "    chunk_sizes = df['size']\n",
    "    avg_chunk_size = chunk_sizes.mean()\n",
    "    mean_chunk_size = chunk_sizes.mean()\n",
    "    std_chunk_size = chunk_sizes.std()\n",
    "    median_chunk_size = chunk_sizes.median()\n",
    "    min_chunk_size = chunk_sizes.min()\n",
    "    max_chunk_size = chunk_sizes.max()\n",
    "    \n",
    "    # Calculate the number of chunks\n",
    "    num_chunks = len(df)\n",
    "    \n",
    "    # Calculate the idle time between chunks\n",
    "    # get the start times starting from the second chunk\n",
    "    start_times = pd.to_datetime(df['start_time'])[1:]\n",
    "\n",
    "    # get the end times starting from the first chunk to the second to last chunk\n",
    "    end_times = pd.to_datetime(df['end_time'])[:-1]\n",
    "\n",
    "    # calculate the idle time between chunks\n",
    "    idle_times = end_times - start_times\n",
    "\n",
    "    idle_times.dropna()\n",
    "\n",
    "    idle_times = idle_times.dt.total_seconds()\n",
    "\n",
    "\n",
    "    avg_idle_time = idle_times.mean()\n",
    "    std_idle_time = idle_times.std()\n",
    "    median_idle_time = idle_times.median()\n",
    "    min_idle_time = idle_times.min()\n",
    "    max_idle_time = idle_times.max()\n",
    "    \n",
    "    # Calculate the video throughput\n",
    "    total_video_size = chunk_sizes.sum()\n",
    "    video_duration = end_times.max() - start_times.min()\n",
    "    video_goodput = total_video_size / video_duration.total_seconds()\n",
    "\n",
    "    if video_goodput <= 0:\n",
    "        video_goodput = 0\n",
    "        print(file_path)\n",
    "    \n",
    "\n",
    "    # Return the metrics\n",
    "    return {\n",
    "        'avg_chunk_size': avg_chunk_size,\n",
    "        'mean_chunk_size': mean_chunk_size,\n",
    "        'std_chunk_size': std_chunk_size,\n",
    "        'median_chunk_size': median_chunk_size,\n",
    "        'min_chunk_size': min_chunk_size,\n",
    "        'max_chunk_size': max_chunk_size,\n",
    "        'num_chunks': num_chunks,\n",
    "        'avg_idle_time': avg_idle_time,\n",
    "        'std_idle_time': std_idle_time,\n",
    "        'median_idle_time': median_idle_time,\n",
    "        'min_idle_time': min_idle_time,\n",
    "        'max_idle_time': max_idle_time,\n",
    "        'video_goodput': video_goodput\n",
    "    }"
   ]
  },
  {
   "cell_type": "code",
   "execution_count": 7,
   "metadata": {},
   "outputs": [
    {
     "data": {
      "text/plain": [
       "{'avg_chunk_size': 0.0,\n",
       " 'mean_chunk_size': 0.0,\n",
       " 'std_chunk_size': nan,\n",
       " 'median_chunk_size': 0.0,\n",
       " 'min_chunk_size': 0,\n",
       " 'max_chunk_size': 0,\n",
       " 'num_chunks': 1,\n",
       " 'avg_idle_time': nan,\n",
       " 'std_idle_time': nan,\n",
       " 'median_idle_time': nan,\n",
       " 'min_idle_time': nan,\n",
       " 'max_idle_time': nan,\n",
       " 'video_goodput': nan}"
      ]
     },
     "execution_count": 7,
     "metadata": {},
     "output_type": "execute_result"
    }
   ],
   "source": [
    "calculate_metrics(\"temp.csv\")"
   ]
  },
  {
   "cell_type": "code",
   "execution_count": 8,
   "metadata": {},
   "outputs": [],
   "source": [
    "def loop_through_har_files(root_dir):\n",
    "    data = []\n",
    "    \n",
    "    # Loop through the subfolders of the root directory\n",
    "    for network in os.listdir(root_dir):\n",
    "        network_dir = os.path.join(root_dir, network)\n",
    "\n",
    "        for game_folder in os.listdir(network_dir):\n",
    "            game_folder_path = os.path.join(network_dir, game_folder)\n",
    "            \n",
    "            # Check if the subfolder is a directory\n",
    "            if os.path.isdir(game_folder_path):\n",
    "                \n",
    "                # Loop through the shaping rate folders\n",
    "                for shaping_rate_folder in os.listdir(game_folder_path):\n",
    "                    shaping_rate_folder_path = os.path.join(game_folder_path, shaping_rate_folder)\n",
    "                    \n",
    "                    # Check if the subfolder is a directory\n",
    "                    if os.path.isdir(shaping_rate_folder_path):\n",
    "                        \n",
    "                        # Loop through the HAR files\n",
    "                        for file in os.listdir(shaping_rate_folder_path):\n",
    "                            file_path = os.path.join(shaping_rate_folder_path, file)\n",
    "                            \n",
    "                            # Check if the file is a HAR file\n",
    "                            if file.endswith('.har'):\n",
    "\n",
    "                                # Extract the shaping rate and grandparent folder names\n",
    "                                category = helper.game_to_category(game_folder)\n",
    "                                shaping_rate = shaping_rate_folder\n",
    "                                grandparent_folder = os.path.basename(os.path.dirname(game_folder_path))\n",
    "                                \n",
    "                                parse_har_to_csv(file_path, \"temp.csv\")\n",
    "                                metrics = calculate_metrics(\"temp.csv\", file_path)\n",
    "                                \n",
    "                                # Append the data to the list\n",
    "                                row = [network, category, shaping_rate, game_folder]\n",
    "                                row.extend(metrics.values())\n",
    "                                data.append(row)\n",
    "    \n",
    "\n",
    "    \n",
    "    # Create the pandas DataFrame\n",
    "    # TODO add network type column\n",
    "    columns = ['network', 'category', 'rate', 'parent']\n",
    "    columns.extend(metrics.keys())\n",
    "    df = pd.DataFrame(data, columns=columns)\n",
    "    \n",
    "    return df\n"
   ]
  },
  {
   "cell_type": "code",
   "execution_count": 9,
   "metadata": {},
   "outputs": [
    {
     "name": "stdout",
     "output_type": "stream",
     "text": [
      "Index(['network', 'category', 'rate', 'parent', 'avg_chunk_size',\n",
      "       'mean_chunk_size', 'std_chunk_size', 'median_chunk_size',\n",
      "       'min_chunk_size', 'max_chunk_size', 'num_chunks', 'avg_idle_time',\n",
      "       'std_idle_time', 'median_idle_time', 'min_idle_time', 'max_idle_time',\n",
      "       'video_goodput'],\n",
      "      dtype='object')\n",
      "  network category     rate               parent  avg_chunk_size  \\\n",
      "0  campus      IRL  1.1Mbps  travel-and-outdoors        0.538501   \n",
      "1  campus      IRL  1.1Mbps  travel-and-outdoors        0.808284   \n",
      "2  campus      IRL  1.1Mbps  travel-and-outdoors        0.707707   \n",
      "3  campus      IRL  1.1Mbps  travel-and-outdoors        0.419064   \n",
      "4  campus      IRL  1.1Mbps  travel-and-outdoors        0.752903   \n",
      "5  campus     MOBA  1.1Mbps        pokemon-unite        0.616854   \n",
      "6  campus     MOBA  1.1Mbps        pokemon-unite        0.814820   \n",
      "7  campus     MOBA  1.1Mbps        pokemon-unite        0.464619   \n",
      "8  campus     MOBA  1.1Mbps        pokemon-unite        0.873016   \n",
      "9  campus     MOBA  1.1Mbps        pokemon-unite        0.475240   \n",
      "\n",
      "   mean_chunk_size  std_chunk_size  median_chunk_size  min_chunk_size  \\\n",
      "0         0.538501        0.070627           0.545044       -0.000008   \n",
      "1         0.808284        0.396051           0.554367        0.018646   \n",
      "2         0.707707        0.335848           0.552216       -0.000008   \n",
      "3         0.419064        0.195893           0.291168        0.219452   \n",
      "4         0.752903        0.381137           0.568710       -0.000008   \n",
      "5         0.616854        0.292090           0.535004        0.015778   \n",
      "6         0.814820        0.384236           0.559387        0.471893   \n",
      "7         0.464619        0.080746           0.476913        0.222321   \n",
      "8         0.873016        0.414756           0.570862       -0.000008   \n",
      "9         0.475240        0.112873           0.491974        0.015778   \n",
      "\n",
      "   max_chunk_size  num_chunks  avg_idle_time  std_idle_time  median_idle_time  \\\n",
      "0        0.623932         105       3.434505       2.120087            2.4710   \n",
      "1        1.428589         172       1.927876       0.993769            1.6760   \n",
      "2        1.531860         157       2.077032       1.632415            1.5860   \n",
      "3        0.850555         316       0.949535       0.475337            0.8685   \n",
      "4        1.685333         182       1.745161       0.803878            1.6955   \n",
      "5        1.602142         184       1.582489       0.937463            1.5135   \n",
      "6        1.640869         175       1.844468       0.937390            1.6880   \n",
      "7        0.559387          14       3.598917       2.522096            3.1800   \n",
      "8        1.557678         179       1.713588       0.692964            1.6940   \n",
      "9        0.589508          24       4.147682       2.396385            3.3755   \n",
      "\n",
      "   min_idle_time  max_idle_time  video_goodput  \n",
      "0          1.175         10.086       0.159486  \n",
      "1          0.509          6.804       0.392625  \n",
      "2          0.585          9.455       0.315225  \n",
      "3          0.292          2.757       0.403227  \n",
      "4          0.498          5.375       0.404548  \n",
      "5          0.189          6.199       0.319422  \n",
      "6          0.575          8.157       0.408047  \n",
      "7          1.396         11.146       0.140629  \n",
      "8          0.472          4.054       0.475629  \n",
      "9          1.859         10.284       0.120343  \n"
     ]
    }
   ],
   "source": [
    "main_df = loop_through_har_files('captures')\n",
    "\n",
    "main_df.to_csv('main_df.csv', index=False)\n",
    "\n",
    "# print the keys of main_df\n",
    "print(main_df.keys())\n",
    "\n",
    "print(main_df.head(10))"
   ]
  },
  {
   "cell_type": "code",
   "execution_count": 10,
   "metadata": {},
   "outputs": [],
   "source": [
    "# convert the per_chunk_data to a dataframe with the propper headers\n",
    "per_chunk_df = pd.DataFrame(per_chunk_data)"
   ]
  },
  {
   "cell_type": "code",
   "execution_count": 11,
   "metadata": {},
   "outputs": [
    {
     "name": "stdout",
     "output_type": "stream",
     "text": [
      "combo: ('1.1Mbps',), Mean: 0.8372190551757812, Median: 0.57086181640625\n",
      "combo: ('3Mbps',), Mean: 3.1690633544921876, Median: 2.7747039794921875\n"
     ]
    },
    {
     "data": {
      "image/png": "[encoded data removed]",
      "text/plain": [
       "<Figure size 312.5x193 with 1 Axes>"
      ]
     },
     "metadata": {},
     "output_type": "display_data"
    }
   ],
   "source": [
    "# plotting the median chunk sizes of streams\n",
    "helper.plot_multiple_cdfs(\n",
    "    df=main_df,\n",
    "    keys=['rate'],\n",
    "    plot_key='median_chunk_size',\n",
    "    xlabel='Median Chunk Size per stream (Mb)',\n",
    "    is_cdf=False,\n",
    "    kde=False,\n",
    "    pallete=cycler_colors,\n",
    "    bins=30\n",
    ")"
   ]
  },
  {
   "cell_type": "code",
   "execution_count": 12,
   "metadata": {},
   "outputs": [
    {
     "name": "stdout",
     "output_type": "stream",
     "text": [
      "combo: ('1.1Mbps',), Mean: 1.9939797365527738, Median: 1.9109162011173182\n",
      "combo: ('3Mbps',), Mean: 2.0537184803796102, Median: 1.8854130434782612\n"
     ]
    },
    {
     "data": {
      "image/png": "[encoded data removed]",
      "text/plain": [
       "<Figure size 312.5x193 with 1 Axes>"
      ]
     },
     "metadata": {},
     "output_type": "display_data"
    }
   ],
   "source": [
    "# plotting the average idle time of chunks in streams\n",
    "helper.plot_multiple_cdfs(\n",
    "    df=main_df,\n",
    "    keys=['rate'],\n",
    "    plot_key='avg_idle_time',\n",
    "    xlabel='Average Chunk Idle Time per Stream (s)',\n",
    "    is_cdf=False,\n",
    "    kde=False,\n",
    "    pallete=cycler_colors,\n",
    "    bins=30\n",
    ")"
   ]
  },
  {
   "cell_type": "code",
   "execution_count": 13,
   "metadata": {},
   "outputs": [
    {
     "name": "stdout",
     "output_type": "stream",
     "text": [
      "combo: ('campus',), Mean: 0.38085111077594397, Median: 0.39396926385716324\n",
      "combo: ('satellite',), Mean: 1.1173108351457441, Median: 1.1240910382111318\n"
     ]
    },
    {
     "data": {
      "image/png": "[encoded data removed]",
      "text/plain": [
       "<Figure size 312.5x193 with 1 Axes>"
      ]
     },
     "metadata": {},
     "output_type": "display_data"
    }
   ],
   "source": [
    "# plotting the throughput of streams\n",
    "helper.plot_multiple_cdfs(\n",
    "    df=main_df,\n",
    "    keys=['network'],\n",
    "    plot_key='video_goodput',\n",
    "    xlabel='Video Goodput per Stream (Mbps)',\n",
    "    is_cdf=False,\n",
    "    kde=False,\n",
    "    pallete=cycler_colors,\n",
    "    bins=30\n",
    ")"
   ]
  },
  {
   "cell_type": "code",
   "execution_count": 14,
   "metadata": {},
   "outputs": [
    {
     "name": "stdout",
     "output_type": "stream",
     "text": [
      "combo: ('campus',), Mean: 0.7846386247294823, Median: 0.557952880859375\n",
      "combo: ('satellite',), Mean: 2.33361528466894, Median: 1.59210205078125\n"
     ]
    },
    {
     "data": {
      "image/png": "[encoded data removed]",
      "text/plain": [
       "<Figure size 312.5x193 with 1 Axes>"
      ]
     },
     "metadata": {},
     "output_type": "display_data"
    }
   ],
   "source": [
    "# plot the sizes of chunks by shaping rate\n",
    "helper.plot_multiple_cdfs(\n",
    "    df=per_chunk_df,\n",
    "    keys=['network'],\n",
    "    plot_key='size',\n",
    "    xlabel='Chunk Sizes (Mb)',\n",
    "    is_cdf=False,\n",
    "    kde=False,\n",
    "    pallete=cycler_colors,\n",
    "    bins=30\n",
    ")"
   ]
  },
  {
   "cell_type": "code",
   "execution_count": 15,
   "metadata": {},
   "outputs": [
    {
     "name": "stdout",
     "output_type": "stream",
     "text": [
      "combo: ('IRL',), Mean: 1.9342282622877245, Median: 1.349700927734375\n",
      "combo: ('MOBA',), Mean: 1.8931920748601125, Median: 1.361175537109375\n",
      "combo: ('SIMMULATING',), Mean: 1.7520787394757775, Median: 1.352569580078125\n",
      "combo: ('SHOOTING',), Mean: 1.677652096560292, Median: 1.343963623046875\n",
      "combo: ('RPG',), Mean: 1.9330573266626443, Median: 1.355438232421875\n"
     ]
    },
    {
     "data": {
      "image/png": "[encoded data removed]",
      "text/plain": [
       "<Figure size 312.5x193 with 1 Axes>"
      ]
     },
     "metadata": {},
     "output_type": "display_data"
    }
   ],
   "source": [
    "# plot the sizes of chunks by category\n",
    "helper.plot_multiple_cdfs(\n",
    "    df=per_chunk_df,\n",
    "    keys=['category'],\n",
    "    plot_key='size',\n",
    "    xlabel='Chunk Sizes (Mb)',\n",
    "    is_cdf=False,\n",
    "    kde=False,\n",
    "    pallete=cycler_colors,\n",
    "    bins=30\n",
    ")"
   ]
  },
  {
   "cell_type": "code",
   "execution_count": 16,
   "metadata": {},
   "outputs": [
    {
     "name": "stdout",
     "output_type": "stream",
     "text": [
      "combo: ('IRL',), Mean: 0.9295613518043169, Median: 0.6315432351835074\n",
      "combo: ('MOBA',), Mean: 0.870407209920613, Median: 0.6228687914588071\n",
      "combo: ('SIMMULATING',), Mean: 0.8469311365504906, Median: 0.6153116595312574\n",
      "combo: ('SHOOTING',), Mean: 0.8174171875244094, Median: 0.6138070047839537\n",
      "combo: ('RPG',), Mean: 0.8918532890165917, Median: 0.6232741834481054\n"
     ]
    },
    {
     "data": {
      "image/png": "[encoded data removed]",
      "text/plain": [
       "<Figure size 312.5x193 with 1 Axes>"
      ]
     },
     "metadata": {},
     "output_type": "display_data"
    }
   ],
   "source": [
    "# plot video throughput by category\n",
    "helper.plot_multiple_cdfs(\n",
    "    df=main_df,\n",
    "    keys=['category'],\n",
    "    plot_key='video_goodput',\n",
    "    xlabel='Video Goodput per Stream (Mbps)',\n",
    "    is_cdf=False,\n",
    "    kde=False,\n",
    "    pallete=cycler_colors,\n",
    "    bins=30\n",
    ")"
   ]
  },
  {
   "cell_type": "code",
   "execution_count": 17,
   "metadata": {},
   "outputs": [
    {
     "name": "stdout",
     "output_type": "stream",
     "text": [
      "combo: ('campus',), Mean: 0.7846386247294823, Median: 0.557952880859375\n",
      "combo: ('satellite',), Mean: 1.24975512171155, Median: 1.332489013671875\n"
     ]
    },
    {
     "data": {
      "image/png": "[encoded data removed]",
      "text/plain": [
       "<Figure size 312.5x193 with 1 Axes>"
      ]
     },
     "metadata": {},
     "output_type": "display_data"
    }
   ],
   "source": [
    "# plot the sizes of chunks by shaping rate\n",
    "helper.plot_multiple_cdfs(\n",
    "    df=per_chunk_df,\n",
    "    keys=['network'],\n",
    "    plot_key='size',\n",
    "    xlabel='Chunk Sizes (Mb)',\n",
    "    is_cdf=False,\n",
    "    kde=False,\n",
    "    pallete=cycler_colors,\n",
    "    bins=30,\n",
    "    filter_keys=['rate'],\n",
    "    filter_values=['1.1Mbps']\n",
    ")"
   ]
  },
  {
   "cell_type": "markdown",
   "metadata": {},
   "source": [
    "## List of graphs to generate for the direct 1.1Mbps comparisson\n",
    "\n",
    "- [ ] plotting the median chunk sizes of streams\n",
    "- [ ] plotting the average idle time of chunks in streams\n",
    "- [ ] plotting the throughput of streams\n",
    "- [ ] plot the sizes of chunks by shaping rate\n"
   ]
  },
  {
   "cell_type": "code",
   "execution_count": 18,
   "metadata": {},
   "outputs": [
    {
     "name": "stdout",
     "output_type": "stream",
     "text": [
      "combo: ('campus',), Mean: 0.5187384033203125, Median: 0.557952880859375\n",
      "combo: ('satellite',), Mean: 1.15569970703125, Median: 1.332489013671875\n"
     ]
    },
    {
     "data": {
      "image/png": "[encoded data removed]",
      "text/plain": [
       "<Figure size 312.5x193 with 1 Axes>"
      ]
     },
     "metadata": {},
     "output_type": "display_data"
    }
   ],
   "source": [
    "# plotting the median chunk sizes of streams\n",
    "\n",
    "helper.plot_multiple_cdfs(\n",
    "    df=main_df,\n",
    "    keys=['network'],\n",
    "    plot_key='median_chunk_size',\n",
    "    xlabel='Median Chunk Size per stream (Mb)',\n",
    "    is_cdf=False,\n",
    "    kde=False,\n",
    "    pallete=cycler_colors,\n",
    "    bins=30,\n",
    "    filter_keys=['rate'],\n",
    "    filter_values=['1.1Mbps']\n",
    ")"
   ]
  },
  {
   "cell_type": "code",
   "execution_count": 19,
   "metadata": {},
   "outputs": [
    {
     "name": "stdout",
     "output_type": "stream",
     "text": [
      "combo: ('campus',), Mean: 1.9592616022830276, Median: 1.8018862934489785\n",
      "combo: ('satellite',), Mean: 2.029671276456252, Median: 2.0227942857142858\n"
     ]
    },
    {
     "data": {
      "image/png": "[encoded data removed]",
      "text/plain": [
       "<Figure size 312.5x193 with 1 Axes>"
      ]
     },
     "metadata": {},
     "output_type": "display_data"
    }
   ],
   "source": [
    "# plotting the average idle time of chunks in streams\n",
    "\n",
    "helper.plot_multiple_cdfs(\n",
    "    df=main_df,\n",
    "    keys=['network'],\n",
    "    plot_key='avg_idle_time',\n",
    "    xlabel='Average Chunk Idle Time per Stream (s)',\n",
    "    is_cdf=False,\n",
    "    kde=False,\n",
    "    pallete=cycler_colors,\n",
    "    bins=30,\n",
    "    filter_keys=['rate'],\n",
    "    filter_values=['1.1Mbps']\n",
    ")"
   ]
  },
  {
   "cell_type": "code",
   "execution_count": 22,
   "metadata": {},
   "outputs": [
    {
     "name": "stdout",
     "output_type": "stream",
     "text": [
      "combo: ('campus',), Mean: 0.38085111077594397, Median: 0.39396926385716324\n",
      "combo: ('satellite',), Mean: 0.6029185171001415, Median: 0.6197406994694488\n"
     ]
    },
    {
     "data": {
      "image/png": "[encoded data removed]",
      "text/plain": [
       "<Figure size 312.5x193 with 1 Axes>"
      ]
     },
     "metadata": {},
     "output_type": "display_data"
    }
   ],
   "source": [
    "# plotting the throughput of streams\n",
    "\n",
    "helper.plot_multiple_cdfs(\n",
    "    df=main_df,\n",
    "    keys=['network'],\n",
    "    plot_key='video_goodput',\n",
    "    xlabel='Video Goodput per Stream (Mbps)',\n",
    "    is_cdf=False,\n",
    "    kde=False,\n",
    "    pallete=cycler_colors,\n",
    "    bins=30,\n",
    "    filter_keys=['rate'],\n",
    "    filter_values=['1.1Mbps']\n",
    ")"
   ]
  },
  {
   "cell_type": "code",
   "execution_count": 23,
   "metadata": {},
   "outputs": [
    {
     "name": "stdout",
     "output_type": "stream",
     "text": [
      "combo: ('campus',), Mean: 0.7846386247294823, Median: 0.557952880859375\n",
      "combo: ('satellite',), Mean: 1.24975512171155, Median: 1.332489013671875\n"
     ]
    },
    {
     "data": {
      "image/png": "[encoded data removed]",
      "text/plain": [
       "<Figure size 312.5x193 with 1 Axes>"
      ]
     },
     "metadata": {},
     "output_type": "display_data"
    }
   ],
   "source": [
    "# plot the sizes of chunks by shaping rate\n",
    "\n",
    "helper.plot_multiple_cdfs(\n",
    "    df=per_chunk_df,\n",
    "    keys=['network'],\n",
    "    plot_key='size',\n",
    "    xlabel='Chunk Sizes (Mb)',\n",
    "    is_cdf=False,\n",
    "    kde=False,\n",
    "    pallete=cycler_colors,\n",
    "    bins=30,\n",
    "    filter_keys=['rate'],\n",
    "    filter_values=['1.1Mbps']\n",
    ")"
   ]
  },
  {
   "cell_type": "code",
   "execution_count": null,
   "metadata": {},
   "outputs": [],
   "source": []
  }
 ],
 "metadata": {
  "kernelspec": {
   "display_name": "base",
   "language": "python",
   "name": "python3"
  },
  "language_info": {
   "codemirror_mode": {
    "name": "ipython",
    "version": 3
   },
   "file_extension": ".py",
   "mimetype": "text/x-python",
   "name": "python",
   "nbconvert_exporter": "python",
   "pygments_lexer": "ipython3",
   "version": "3.10.12"
  }
 },
 "nbformat": 4,
 "nbformat_minor": 2
}
